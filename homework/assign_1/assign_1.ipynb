{
 "cells": [
  {
   "cell_type": "code",
   "execution_count": 1,
   "id": "1d335763-73f4-429f-827d-04cce8bd7605",
   "metadata": {},
   "outputs": [],
   "source": [
    "import pandas as pd\n",
    "from sklearn.preprocessing import OneHotEncoder\n",
    "from sklearn.linear_model import LinearRegression\n",
    "from sklearn.metrics import mean_squared_error\n",
    "from sklearn.pipeline import Pipeline\n",
    "\n",
    "import warnings\n",
    "warnings.filterwarnings('ignore')"
   ]
  },
  {
   "cell_type": "markdown",
   "id": "712cb2d0-89d0-48a5-a35b-2c9e82921aee",
   "metadata": {},
   "source": [
    "## Import datasets"
   ]
  },
  {
   "cell_type": "code",
   "execution_count": 2,
   "id": "35027eee-d499-4dec-8cf3-6d3e84bf929e",
   "metadata": {},
   "outputs": [],
   "source": [
    "y_t_jan = pd.read_parquet('data/yellow_tripdata_2022-01.parquet')\n",
    "y_t_fev = pd.read_parquet('data/yellow_tripdata_2022-02.parquet')"
   ]
  },
  {
   "cell_type": "markdown",
   "id": "2153414c-0362-4cda-b75d-da526240ebdc",
   "metadata": {},
   "source": [
    "### Number os Features"
   ]
  },
  {
   "cell_type": "code",
   "execution_count": 3,
   "id": "006ca130-7136-44ae-a649-774245437d4d",
   "metadata": {},
   "outputs": [
    {
     "name": "stdout",
     "output_type": "stream",
     "text": [
      "Taxi data set have 19 columns\n"
     ]
    }
   ],
   "source": [
    "print(f'Taxi data set have {y_t_jan.shape[1]} columns')"
   ]
  },
  {
   "cell_type": "markdown",
   "id": "4b6ea7dd-2c76-42f2-b659-39eaf178c320",
   "metadata": {},
   "source": [
    "### Prepare Data"
   ]
  },
  {
   "cell_type": "code",
   "execution_count": 4,
   "id": "5c8c9043-82f9-4735-9fc8-121cc1330e04",
   "metadata": {},
   "outputs": [],
   "source": [
    "def preprate_taxi_data(taxi_data: pd.DataFrame, verbose:bool=True) -> pd.DataFrame:\n",
    "    \"\"\"\n",
    "    :param taxi_data: yellow taxi data\n",
    "    :param verbose: print duration feature description DEFAULT=True\n",
    "    :return: DataFrame with 'PULocationID','DOLocationID', 'duration' columns\n",
    "    \"\"\"\n",
    "    t_data = taxi_data.copy()\n",
    "    t_data['duration'] = t_data.tpep_dropoff_datetime - t_data.tpep_pickup_datetime\n",
    "    t_data['duration'] = t_data['duration'].astype('int64')/(60e9)\n",
    "    print(t_data['duration'].describe(), \"\\n\")\n",
    "    t_data = t_data[t_data['duration'].between(1,60)]\n",
    "    return t_data[['PULocationID','DOLocationID', 'duration']]"
   ]
  },
  {
   "cell_type": "code",
   "execution_count": 5,
   "id": "ff9d0d27-01a0-4951-86f0-8e4b3a688677",
   "metadata": {},
   "outputs": [
    {
     "name": "stdout",
     "output_type": "stream",
     "text": [
      "count    2.463931e+06\n",
      "mean     1.421220e+01\n",
      "std      4.644531e+01\n",
      "min     -3.442400e+03\n",
      "25%      6.316667e+00\n",
      "50%      1.018333e+01\n",
      "75%      1.616667e+01\n",
      "max      8.513183e+03\n",
      "Name: duration, dtype: float64 \n",
      "\n"
     ]
    }
   ],
   "source": [
    "train_data = preprate_taxi_data(y_t_jan)"
   ]
  },
  {
   "cell_type": "code",
   "execution_count": 6,
   "id": "9d7349f8-93e4-4a23-bca7-74bbf0c70a4f",
   "metadata": {},
   "outputs": [
    {
     "name": "stdout",
     "output_type": "stream",
     "text": [
      "count    2.979431e+06\n",
      "mean     1.565368e+01\n",
      "std      4.726394e+01\n",
      "min     -9.833333e-01\n",
      "25%      6.950000e+00\n",
      "50%      1.125000e+01\n",
      "75%      1.783333e+01\n",
      "max      5.489383e+03\n",
      "Name: duration, dtype: float64 \n",
      "\n"
     ]
    }
   ],
   "source": [
    "test_data = preprate_taxi_data(y_t_fev)"
   ]
  },
  {
   "cell_type": "markdown",
   "id": "e642b594-db65-4138-914e-5c1fa9a0fe3a",
   "metadata": {},
   "source": [
    "### Outliers removal"
   ]
  },
  {
   "cell_type": "code",
   "execution_count": 7,
   "id": "fd95f53b-0fe0-4b11-8e5d-522f943622ad",
   "metadata": {},
   "outputs": [
    {
     "name": "stdout",
     "output_type": "stream",
     "text": [
      "Records left ratio: 0.9827547930522406\n"
     ]
    }
   ],
   "source": [
    "print(f'Records left ratio: {train_data.shape[0]/y_t_jan.shape[0]}')"
   ]
  },
  {
   "cell_type": "markdown",
   "id": "cb242967-1dc2-4283-ab6a-9d92a1fba435",
   "metadata": {},
   "source": [
    "### Pipeline"
   ]
  },
  {
   "cell_type": "code",
   "execution_count": 8,
   "id": "964aef6d-a58c-4751-b0ef-51338c3ae113",
   "metadata": {},
   "outputs": [],
   "source": [
    "pipe = Pipeline([(\"ohe\", OneHotEncoder(drop=\"first\", handle_unknown=\"ignore\")),\n",
    "                 (\"lin_reg\", LinearRegression())])"
   ]
  },
  {
   "cell_type": "code",
   "execution_count": 9,
   "id": "cff498d4-f6a0-4e9c-a309-7edec53fb880",
   "metadata": {},
   "outputs": [
    {
     "data": {
      "text/plain": [
       "Pipeline(steps=[('ohe', OneHotEncoder(drop='first', handle_unknown='ignore')),\n",
       "                ('lin_reg', LinearRegression())])"
      ]
     },
     "execution_count": 9,
     "metadata": {},
     "output_type": "execute_result"
    }
   ],
   "source": [
    "train_y = train_data['duration']\n",
    "train_X = train_data[['PULocationID','DOLocationID']]\n",
    "test_y = test_data['duration']\n",
    "test_X = test_data[['PULocationID','DOLocationID']]\n",
    "pipe.fit(train_X, train_y)"
   ]
  },
  {
   "cell_type": "code",
   "execution_count": 10,
   "id": "de6c94e9-17a3-4c7f-81aa-49293fef0a2f",
   "metadata": {},
   "outputs": [
    {
     "name": "stdout",
     "output_type": "stream",
     "text": [
      "RMSE for the training data is 6.9861902204330235\n"
     ]
    }
   ],
   "source": [
    "train_y_pred = pipe.predict(train_X)\n",
    "print(f\"RMSE for the training data is {mean_squared_error(train_y, train_y_pred, squared=False)}\")"
   ]
  },
  {
   "cell_type": "code",
   "execution_count": 11,
   "id": "2f45dfd3-87aa-4a90-9062-3fcee22e572e",
   "metadata": {},
   "outputs": [
    {
     "name": "stdout",
     "output_type": "stream",
     "text": [
      "RMSE for the test data is 7.786501997417462\n"
     ]
    }
   ],
   "source": [
    "test_y_pred = pipe.predict(test_X)\n",
    "print(f'RMSE for the test data is {mean_squared_error(test_y, test_y_pred, squared=False)}')"
   ]
  }
 ],
 "metadata": {
  "kernelspec": {
   "display_name": "Python 3 (ipykernel)",
   "language": "python",
   "name": "python3"
  },
  "language_info": {
   "codemirror_mode": {
    "name": "ipython",
    "version": 3
   },
   "file_extension": ".py",
   "mimetype": "text/x-python",
   "name": "python",
   "nbconvert_exporter": "python",
   "pygments_lexer": "ipython3",
   "version": "3.9.12"
  }
 },
 "nbformat": 4,
 "nbformat_minor": 5
}
