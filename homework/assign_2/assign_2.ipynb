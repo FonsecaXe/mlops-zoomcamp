{
 "cells": [
  {
   "cell_type": "code",
   "execution_count": 2,
   "id": "1d335763-73f4-429f-827d-04cce8bd7605",
   "metadata": {},
   "outputs": [],
   "source": [
    "import pandas as pd\n",
    "import mlflow\n",
    "\n",
    "from sklearn.preprocessing import OneHotEncoder\n",
    "from sklearn.linear_model import LinearRegression\n",
    "from sklearn.metrics import mean_squared_error\n",
    "from sklearn.pipeline import Pipeline\n",
    "\n",
    "import warnings\n",
    "warnings.filterwarnings('ignore')"
   ]
  },
  {
   "cell_type": "markdown",
   "id": "275a15be",
   "metadata": {},
   "source": [
    "## Config MLFlow"
   ]
  },
  {
   "cell_type": "code",
   "execution_count": null,
   "id": "23a8cae2",
   "metadata": {},
   "outputs": [],
   "source": [
    "mlflow.set_tracking_uri(\"https://127.0.0.1:5000\")\n",
    "mlflow.set_experiment(\"nyc_yellow_taxi_exp\")"
   ]
  },
  {
   "cell_type": "markdown",
   "id": "712cb2d0-89d0-48a5-a35b-2c9e82921aee",
   "metadata": {},
   "source": [
    "## Import datasets"
   ]
  },
  {
   "cell_type": "code",
   "execution_count": 5,
   "id": "35027eee-d499-4dec-8cf3-6d3e84bf929e",
   "metadata": {},
   "outputs": [],
   "source": [
    "y_t_jan = pd.read_parquet('../data/yellow_tripdata_2022-01.parquet')\n",
    "y_t_fev = pd.read_parquet('../data/yellow_tripdata_2022-02.parquet')"
   ]
  },
  {
   "cell_type": "markdown",
   "id": "2153414c-0362-4cda-b75d-da526240ebdc",
   "metadata": {},
   "source": [
    "### Number os Features"
   ]
  },
  {
   "cell_type": "code",
   "execution_count": 6,
   "id": "006ca130-7136-44ae-a649-774245437d4d",
   "metadata": {},
   "outputs": [
    {
     "name": "stdout",
     "output_type": "stream",
     "text": [
      "Taxi data set have 19 columns\n"
     ]
    }
   ],
   "source": [
    "print(f'Taxi data set have {y_t_jan.shape[1]} columns')"
   ]
  },
  {
   "cell_type": "markdown",
   "id": "4b6ea7dd-2c76-42f2-b659-39eaf178c320",
   "metadata": {},
   "source": [
    "### Prepare Data"
   ]
  },
  {
   "cell_type": "code",
   "execution_count": 7,
   "id": "5c8c9043-82f9-4735-9fc8-121cc1330e04",
   "metadata": {},
   "outputs": [],
   "source": [
    "def preprate_taxi_data(taxi_data: pd.DataFrame, verbose:bool=True) -> pd.DataFrame:\n",
    "    \"\"\"\n",
    "    :param taxi_data: yellow taxi data\n",
    "    :param verbose: print duration feature description DEFAULT=True\n",
    "    :return: DataFrame with 'PULocationID','DOLocationID', 'duration' columns\n",
    "    \"\"\"\n",
    "    t_data = taxi_data.copy()\n",
    "    t_data['duration'] = t_data.tpep_dropoff_datetime - t_data.tpep_pickup_datetime\n",
    "    t_data['duration'] = t_data['duration'].astype('int64')/(60e9)\n",
    "    print(t_data['duration'].describe(), \"\\n\")\n",
    "    t_data = t_data[t_data['duration'].between(1,60)]\n",
    "    return t_data[['PULocationID','DOLocationID', 'duration']]"
   ]
  },
  {
   "cell_type": "code",
   "execution_count": 8,
   "id": "ff9d0d27-01a0-4951-86f0-8e4b3a688677",
   "metadata": {},
   "outputs": [
    {
     "name": "stdout",
     "output_type": "stream",
     "text": [
      "count    2.463931e+06\n",
      "mean     1.421220e+01\n",
      "std      4.644531e+01\n",
      "min     -3.442400e+03\n",
      "25%      6.316667e+00\n",
      "50%      1.018333e+01\n",
      "75%      1.616667e+01\n",
      "max      8.513183e+03\n",
      "Name: duration, dtype: float64 \n",
      "\n"
     ]
    }
   ],
   "source": [
    "train_data = preprate_taxi_data(y_t_jan)"
   ]
  },
  {
   "cell_type": "code",
   "execution_count": 9,
   "id": "9d7349f8-93e4-4a23-bca7-74bbf0c70a4f",
   "metadata": {},
   "outputs": [
    {
     "name": "stdout",
     "output_type": "stream",
     "text": [
      "count    2.979431e+06\n",
      "mean     1.565368e+01\n",
      "std      4.726394e+01\n",
      "min     -9.833333e-01\n",
      "25%      6.950000e+00\n",
      "50%      1.125000e+01\n",
      "75%      1.783333e+01\n",
      "max      5.489383e+03\n",
      "Name: duration, dtype: float64 \n",
      "\n"
     ]
    }
   ],
   "source": [
    "test_data = preprate_taxi_data(y_t_fev)"
   ]
  },
  {
   "cell_type": "markdown",
   "id": "e642b594-db65-4138-914e-5c1fa9a0fe3a",
   "metadata": {},
   "source": [
    "### Outliers removal"
   ]
  },
  {
   "cell_type": "code",
   "execution_count": 10,
   "id": "fd95f53b-0fe0-4b11-8e5d-522f943622ad",
   "metadata": {},
   "outputs": [
    {
     "name": "stdout",
     "output_type": "stream",
     "text": [
      "Records left ratio: 0.9827547930522406\n"
     ]
    }
   ],
   "source": [
    "print(f'Records left ratio: {train_data.shape[0]/y_t_jan.shape[0]}')"
   ]
  },
  {
   "cell_type": "markdown",
   "id": "cb242967-1dc2-4283-ab6a-9d92a1fba435",
   "metadata": {},
   "source": [
    "### Pipeline"
   ]
  },
  {
   "cell_type": "code",
   "execution_count": 11,
   "id": "964aef6d-a58c-4751-b0ef-51338c3ae113",
   "metadata": {},
   "outputs": [],
   "source": [
    "pipe = Pipeline([(\"ohe\", OneHotEncoder(drop=\"first\", handle_unknown=\"ignore\")),\n",
    "                 (\"lin_reg\", LinearRegression())])"
   ]
  },
  {
   "cell_type": "code",
   "execution_count": 12,
   "id": "cff498d4-f6a0-4e9c-a309-7edec53fb880",
   "metadata": {},
   "outputs": [
    {
     "data": {
      "text/html": [
       "<style>#sk-container-id-1 {color: black;background-color: white;}#sk-container-id-1 pre{padding: 0;}#sk-container-id-1 div.sk-toggleable {background-color: white;}#sk-container-id-1 label.sk-toggleable__label {cursor: pointer;display: block;width: 100%;margin-bottom: 0;padding: 0.3em;box-sizing: border-box;text-align: center;}#sk-container-id-1 label.sk-toggleable__label-arrow:before {content: \"▸\";float: left;margin-right: 0.25em;color: #696969;}#sk-container-id-1 label.sk-toggleable__label-arrow:hover:before {color: black;}#sk-container-id-1 div.sk-estimator:hover label.sk-toggleable__label-arrow:before {color: black;}#sk-container-id-1 div.sk-toggleable__content {max-height: 0;max-width: 0;overflow: hidden;text-align: left;background-color: #f0f8ff;}#sk-container-id-1 div.sk-toggleable__content pre {margin: 0.2em;color: black;border-radius: 0.25em;background-color: #f0f8ff;}#sk-container-id-1 input.sk-toggleable__control:checked~div.sk-toggleable__content {max-height: 200px;max-width: 100%;overflow: auto;}#sk-container-id-1 input.sk-toggleable__control:checked~label.sk-toggleable__label-arrow:before {content: \"▾\";}#sk-container-id-1 div.sk-estimator input.sk-toggleable__control:checked~label.sk-toggleable__label {background-color: #d4ebff;}#sk-container-id-1 div.sk-label input.sk-toggleable__control:checked~label.sk-toggleable__label {background-color: #d4ebff;}#sk-container-id-1 input.sk-hidden--visually {border: 0;clip: rect(1px 1px 1px 1px);clip: rect(1px, 1px, 1px, 1px);height: 1px;margin: -1px;overflow: hidden;padding: 0;position: absolute;width: 1px;}#sk-container-id-1 div.sk-estimator {font-family: monospace;background-color: #f0f8ff;border: 1px dotted black;border-radius: 0.25em;box-sizing: border-box;margin-bottom: 0.5em;}#sk-container-id-1 div.sk-estimator:hover {background-color: #d4ebff;}#sk-container-id-1 div.sk-parallel-item::after {content: \"\";width: 100%;border-bottom: 1px solid gray;flex-grow: 1;}#sk-container-id-1 div.sk-label:hover label.sk-toggleable__label {background-color: #d4ebff;}#sk-container-id-1 div.sk-serial::before {content: \"\";position: absolute;border-left: 1px solid gray;box-sizing: border-box;top: 0;bottom: 0;left: 50%;z-index: 0;}#sk-container-id-1 div.sk-serial {display: flex;flex-direction: column;align-items: center;background-color: white;padding-right: 0.2em;padding-left: 0.2em;position: relative;}#sk-container-id-1 div.sk-item {position: relative;z-index: 1;}#sk-container-id-1 div.sk-parallel {display: flex;align-items: stretch;justify-content: center;background-color: white;position: relative;}#sk-container-id-1 div.sk-item::before, #sk-container-id-1 div.sk-parallel-item::before {content: \"\";position: absolute;border-left: 1px solid gray;box-sizing: border-box;top: 0;bottom: 0;left: 50%;z-index: -1;}#sk-container-id-1 div.sk-parallel-item {display: flex;flex-direction: column;z-index: 1;position: relative;background-color: white;}#sk-container-id-1 div.sk-parallel-item:first-child::after {align-self: flex-end;width: 50%;}#sk-container-id-1 div.sk-parallel-item:last-child::after {align-self: flex-start;width: 50%;}#sk-container-id-1 div.sk-parallel-item:only-child::after {width: 0;}#sk-container-id-1 div.sk-dashed-wrapped {border: 1px dashed gray;margin: 0 0.4em 0.5em 0.4em;box-sizing: border-box;padding-bottom: 0.4em;background-color: white;}#sk-container-id-1 div.sk-label label {font-family: monospace;font-weight: bold;display: inline-block;line-height: 1.2em;}#sk-container-id-1 div.sk-label-container {text-align: center;}#sk-container-id-1 div.sk-container {/* jupyter's `normalize.less` sets `[hidden] { display: none; }` but bootstrap.min.css set `[hidden] { display: none !important; }` so we also need the `!important` here to be able to override the default hidden behavior on the sphinx rendered scikit-learn.org. See: https://github.com/scikit-learn/scikit-learn/issues/21755 */display: inline-block !important;position: relative;}#sk-container-id-1 div.sk-text-repr-fallback {display: none;}</style><div id=\"sk-container-id-1\" class=\"sk-top-container\"><div class=\"sk-text-repr-fallback\"><pre>Pipeline(steps=[(&#x27;ohe&#x27;, OneHotEncoder(drop=&#x27;first&#x27;, handle_unknown=&#x27;ignore&#x27;)),\n",
       "                (&#x27;lin_reg&#x27;, LinearRegression())])</pre><b>In a Jupyter environment, please rerun this cell to show the HTML representation or trust the notebook. <br />On GitHub, the HTML representation is unable to render, please try loading this page with nbviewer.org.</b></div><div class=\"sk-container\" hidden><div class=\"sk-item sk-dashed-wrapped\"><div class=\"sk-label-container\"><div class=\"sk-label sk-toggleable\"><input class=\"sk-toggleable__control sk-hidden--visually\" id=\"sk-estimator-id-1\" type=\"checkbox\" ><label for=\"sk-estimator-id-1\" class=\"sk-toggleable__label sk-toggleable__label-arrow\">Pipeline</label><div class=\"sk-toggleable__content\"><pre>Pipeline(steps=[(&#x27;ohe&#x27;, OneHotEncoder(drop=&#x27;first&#x27;, handle_unknown=&#x27;ignore&#x27;)),\n",
       "                (&#x27;lin_reg&#x27;, LinearRegression())])</pre></div></div></div><div class=\"sk-serial\"><div class=\"sk-item\"><div class=\"sk-estimator sk-toggleable\"><input class=\"sk-toggleable__control sk-hidden--visually\" id=\"sk-estimator-id-2\" type=\"checkbox\" ><label for=\"sk-estimator-id-2\" class=\"sk-toggleable__label sk-toggleable__label-arrow\">OneHotEncoder</label><div class=\"sk-toggleable__content\"><pre>OneHotEncoder(drop=&#x27;first&#x27;, handle_unknown=&#x27;ignore&#x27;)</pre></div></div></div><div class=\"sk-item\"><div class=\"sk-estimator sk-toggleable\"><input class=\"sk-toggleable__control sk-hidden--visually\" id=\"sk-estimator-id-3\" type=\"checkbox\" ><label for=\"sk-estimator-id-3\" class=\"sk-toggleable__label sk-toggleable__label-arrow\">LinearRegression</label><div class=\"sk-toggleable__content\"><pre>LinearRegression()</pre></div></div></div></div></div></div></div>"
      ],
      "text/plain": [
       "Pipeline(steps=[('ohe', OneHotEncoder(drop='first', handle_unknown='ignore')),\n",
       "                ('lin_reg', LinearRegression())])"
      ]
     },
     "execution_count": 12,
     "metadata": {},
     "output_type": "execute_result"
    }
   ],
   "source": [
    "train_y = train_data['duration']\n",
    "train_X = train_data[['PULocationID','DOLocationID']]\n",
    "test_y = test_data['duration']\n",
    "test_X = test_data[['PULocationID','DOLocationID']]\n",
    "pipe.fit(train_X, train_y)"
   ]
  },
  {
   "cell_type": "code",
   "execution_count": 10,
   "id": "de6c94e9-17a3-4c7f-81aa-49293fef0a2f",
   "metadata": {},
   "outputs": [
    {
     "name": "stdout",
     "output_type": "stream",
     "text": [
      "RMSE for the training data is 6.9861902204330235\n"
     ]
    }
   ],
   "source": [
    "\n",
    "train_y_pred = pipe.predict(train_X)\n",
    "print(f\"RMSE for the training data is {mean_squared_error(train_y, train_y_pred, squared=False)}\")"
   ]
  },
  {
   "cell_type": "code",
   "execution_count": 11,
   "id": "2f45dfd3-87aa-4a90-9062-3fcee22e572e",
   "metadata": {},
   "outputs": [
    {
     "name": "stdout",
     "output_type": "stream",
     "text": [
      "RMSE for the test data is 7.786501997417462\n"
     ]
    }
   ],
   "source": [
    "test_y_pred = pipe.predict(test_X)\n",
    "print(f'RMSE for the test data is {mean_squared_error(test_y, test_y_pred, squared=False)}')"
   ]
  }
 ],
 "metadata": {
  "kernelspec": {
   "display_name": "Python 3 (ipykernel)",
   "language": "python",
   "name": "python3"
  },
  "language_info": {
   "codemirror_mode": {
    "name": "ipython",
    "version": 3
   },
   "file_extension": ".py",
   "mimetype": "text/x-python",
   "name": "python",
   "nbconvert_exporter": "python",
   "pygments_lexer": "ipython3",
   "version": "3.9.16"
  }
 },
 "nbformat": 4,
 "nbformat_minor": 5
}
